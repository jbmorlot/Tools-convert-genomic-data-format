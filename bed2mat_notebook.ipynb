{
 "cells": [
  {
   "cell_type": "code",
   "execution_count": 1,
   "metadata": {
    "collapsed": false
   },
   "outputs": [],
   "source": [
    "import sys\n",
    "import numpy as np\n",
    "import h5py\n",
    "import re"
   ]
  },
  {
   "cell_type": "code",
   "execution_count": 68,
   "metadata": {
    "collapsed": false
   },
   "outputs": [],
   "source": [
    "#BED file\n",
    "filename = '/run/media/jmorlot/add51d2e-cd8e-48fb-93dd-4767883364a6/ChIA-Pet/interaction_GSM1872887_GM12878_RNAPII_PET_clusters.txt'\n",
    "fbed = open(filename,'r')\n",
    "\n",
    "chrmlentot = np.array([249250621,243199373,198022430,191154276,180915260,171115067,159138663,146364022,141213431,135534747,135006516,133851895,115169878,107349540,102531392,90354753,81195210,78077248,59128983,63025520,48129895,51304566])\n",
    "res = 200\n",
    "chrmlentotbin = np.cumsum(np.floor(chrmlentot/res))\n",
    "chrmlentotbin = np.insert(chrmlentotbin, 0, 0)\n",
    "S = int(np.sum(np.floor(chrmlentot/res)))\n",
    "\n",
    "vect = np.zeros((S,1))"
   ]
  },
  {
   "cell_type": "code",
   "execution_count": 67,
   "metadata": {
    "collapsed": true
   },
   "outputs": [],
   "source": [
    "fbed.close()"
   ]
  },
  {
   "cell_type": "code",
   "execution_count": 3,
   "metadata": {
    "collapsed": true
   },
   "outputs": [],
   "source": [
    "header = fbed.readline()"
   ]
  },
  {
   "cell_type": "code",
   "execution_count": 7,
   "metadata": {
    "collapsed": false
   },
   "outputs": [
    {
     "name": "stdout",
     "output_type": "stream",
     "text": [
      "['chr1', '567503', '567654', 'chrM:15126-15749,4', '124953', '.'] ['chrM', '15126-15749,4'] ['15126', '15749,4'] ['15749', '4']\n"
     ]
    }
   ],
   "source": [
    "h1 = (header.split('\\n')[0]).split('\\t')\n",
    "h2 = h1[3].split(':')\n",
    "h3 = h2[1].split('-')\n",
    "h4 = h3[1].split(',')\n",
    "print h1,h2,h3,h4\n"
   ]
  },
  {
   "cell_type": "code",
   "execution_count": 29,
   "metadata": {
    "collapsed": false
   },
   "outputs": [
    {
     "name": "stdout",
     "output_type": "stream",
     "text": [
      "13317787\n"
     ]
    }
   ],
   "source": [
    "print posmax"
   ]
  },
  {
   "cell_type": "code",
   "execution_count": 69,
   "metadata": {
    "collapsed": false
   },
   "outputs": [],
   "source": [
    "from scipy.sparse import coo_matrix\n",
    "\n",
    "#Estimate list size\n",
    "L=0\n",
    "for line in fbed:\n",
    "    \n",
    "    h1 = (line.split('\\n')[0]).split('\\t')\n",
    "    h2 = h1[3].split(':')\n",
    "    h3 = h2[1].split('-')\n",
    "    h4 = h3[1].split(',')\n",
    "    \n",
    "    \n",
    "    chrm1 = h1[0].split('chr')[1]\n",
    "    chrm2 = h2[0].split('chr')[1]\n",
    "    \n",
    "    pos11 = int(h1[1])\n",
    "    pos12 = int(h1[2])\n",
    "    \n",
    "    pos21 = int(h3[0])\n",
    "    pos22 = int(h4[0])\n",
    "    \n",
    "    value = int(h4[1])\n",
    "    \n",
    "    if re.search(r'[0-9]', chrm1) and re.search(r'[0-9]', chrm2):\n",
    "        \n",
    "        chrm1 = int(chrm1)\n",
    "        chrm2 = int(chrm2)\n",
    "        \n",
    "        if chrm1==chrm2:\n",
    "            pos11 = int(chrmlentotbin[chrm1-1]+ np.floor(int(pos11)/res))\n",
    "            pos12 = int(chrmlentotbin[chrm1-1]+ np.floor(int(pos12)/res))\n",
    "            pos21 = int(chrmlentotbin[chrm2-1]+ np.floor(int(pos21)/res))\n",
    "            pos22 = int(chrmlentotbin[chrm2-1]+ np.floor(int(pos22)/res))\n",
    "            \n",
    "            pos1 = range(pos11,pos12)\n",
    "            pos2 = range(pos21,pos22)\n",
    "            \n",
    "            pos1R = [p for p in pos1 for i in range(len(pos2))]\n",
    "            pos2R = [p for i in range(len(pos1)) for p in pos2 ]\n",
    "            valueR = [value for v in range(len(pos1R))]\n",
    "            \n",
    "            L = L + len(pos1R)\n",
    "        \n",
    "\n",
    "#Preallocating and Filling the vectors\n",
    "fbed.close()\n",
    "fbed = open(filename,'r')      \n",
    "\n",
    "I=np.zeros(L)\n",
    "J=np.zeros(L)\n",
    "V=np.zeros(L)\n",
    "l=0\n",
    "\n",
    "for line in fbed:\n",
    "    \n",
    "    h1 = (line.split('\\n')[0]).split('\\t')\n",
    "    h2 = h1[3].split(':')\n",
    "    h3 = h2[1].split('-')\n",
    "    h4 = h3[1].split(',')\n",
    "    \n",
    "    \n",
    "    chrm1 = h1[0].split('chr')[1]\n",
    "    chrm2 = h2[0].split('chr')[1]\n",
    "    \n",
    "    pos11 = int(h1[1])\n",
    "    pos12 = int(h1[2])\n",
    "    \n",
    "    pos21 = int(h3[0])\n",
    "    pos22 = int(h4[0])\n",
    "    \n",
    "    value = int(h4[1])\n",
    "    \n",
    "    if re.search(r'[0-9]', chrm1) and re.search(r'[0-9]', chrm2):\n",
    "        \n",
    "        chrm1 = int(chrm1)\n",
    "        chrm2 = int(chrm2)\n",
    "        \n",
    "        if chrm1==chrm2:\n",
    "            pos11 = int(chrmlentotbin[chrm1-1]+ np.floor(int(pos11)/res))\n",
    "            pos12 = int(chrmlentotbin[chrm1-1]+ np.floor(int(pos12)/res))\n",
    "            pos21 = int(chrmlentotbin[chrm2-1]+ np.floor(int(pos21)/res))\n",
    "            pos22 = int(chrmlentotbin[chrm2-1]+ np.floor(int(pos22)/res))\n",
    "            \n",
    "            pos1 = range(pos11,pos12)\n",
    "            pos2 = range(pos21,pos22)\n",
    "            \n",
    "            pos1R = [p for p in pos1 for i in range(len(pos2))]\n",
    "            pos2R = [p for i in range(len(pos1)) for p in pos2 ]\n",
    "            valueR = [value for v in range(len(pos1R))]\n",
    "            \n",
    "            li = len(pos1R)\n",
    "            I[l:l+li] = pos1R\n",
    "            J[l:l+li] = pos2R\n",
    "            V[l:l+li] = valueR\n",
    "            \n",
    "            l = l + li\n",
    "\n",
    "matrix = coo_matrix((V, (I, J)), shape=(S,S))\n",
    "            \n",
    "#             posmin = np.min([pos11,pos12,pos21,pos22])\n",
    "#             posmax = np.max([pos11,pos12,pos21,pos22])\n",
    "\n",
    "#             vect[posmin:posmax] = vect[posmin:posmax] + value\n",
    "        \n",
    "fbed.close()"
   ]
  },
  {
   "cell_type": "code",
   "execution_count": 79,
   "metadata": {
    "collapsed": true
   },
   "outputs": [],
   "source": [
    "matrix = coo_matrix((V, (I, J)), shape=(S,S))"
   ]
  },
  {
   "cell_type": "code",
   "execution_count": 71,
   "metadata": {
    "collapsed": false
   },
   "outputs": [],
   "source": [
    "matrix = matrix + matrix.T"
   ]
  },
  {
   "cell_type": "code",
   "execution_count": 80,
   "metadata": {
    "collapsed": false
   },
   "outputs": [],
   "source": [
    "fh5.close()\n",
    "fh5 = h5py.File(filename.split('.txt')[0] + '.hdf5', \"w\")\n",
    "fh5['data'] = matrix.data\n",
    "fh5['I'] = matrix.row\n",
    "fh5['J'] = matrix.col\n",
    "fh5.close()"
   ]
  },
  {
   "cell_type": "code",
   "execution_count": 64,
   "metadata": {
    "collapsed": false
   },
   "outputs": [],
   "source": [
    "m=0\n",
    "for line in fbed:\n",
    "#     if re.search(r'chr(\\d+)', line):\n",
    "    values = (line.split('\\n')[0]).split('\\t')\n",
    "    if re.search(r'[0-9]', values[0]):\n",
    "#         chrm = int((values[0]).split('chr')[1])\n",
    "        chrm = int(values[0])\n",
    "        pos1 = int(chrmlentotbin[chrm-1]+ np.floor(int(values[1])/res))\n",
    "        pos2 = int(chrmlentotbin[chrm-1]+ np.floor(int(values[2])/res))\n",
    "        vect[range(pos1,pos2)] = m%100 + 1\n",
    "        m=m+1\n",
    "        \n",
    "fbed.close()"
   ]
  },
  {
   "cell_type": "code",
   "execution_count": 13,
   "metadata": {
    "collapsed": false
   },
   "outputs": [
    {
     "ename": "AttributeError",
     "evalue": "'list' object has no attribute 'shape'",
     "output_type": "error",
     "traceback": [
      "\u001b[0;31m---------------------------------------------------------------------------\u001b[0m",
      "\u001b[0;31mAttributeError\u001b[0m                            Traceback (most recent call last)",
      "\u001b[0;32m<ipython-input-13-fb82bdaa3d2e>\u001b[0m in \u001b[0;36m<module>\u001b[0;34m()\u001b[0m\n\u001b[1;32m     19\u001b[0m     \u001b[0mvect\u001b[0m\u001b[0;34m.\u001b[0m\u001b[0mappend\u001b[0m\u001b[0;34m(\u001b[0m\u001b[0mint\u001b[0m\u001b[0;34m(\u001b[0m\u001b[0mvalues\u001b[0m\u001b[0;34m[\u001b[0m\u001b[0;36m2\u001b[0m\u001b[0;34m]\u001b[0m\u001b[0;34m.\u001b[0m\u001b[0msplit\u001b[0m\u001b[0;34m(\u001b[0m\u001b[0;34m'.'\u001b[0m\u001b[0;34m)\u001b[0m\u001b[0;34m[\u001b[0m\u001b[0;36m0\u001b[0m\u001b[0;34m]\u001b[0m\u001b[0;34m)\u001b[0m\u001b[0;34m)\u001b[0m\u001b[0;34m\u001b[0m\u001b[0m\n\u001b[1;32m     20\u001b[0m \u001b[0;34m\u001b[0m\u001b[0m\n\u001b[0;32m---> 21\u001b[0;31m \u001b[0;32mprint\u001b[0m \u001b[0mpos1\u001b[0m\u001b[0;34m.\u001b[0m\u001b[0mshape\u001b[0m\u001b[0;34m,\u001b[0m\u001b[0mpos2\u001b[0m\u001b[0;34m.\u001b[0m\u001b[0mshape\u001b[0m\u001b[0;34m,\u001b[0m\u001b[0mvect\u001b[0m\u001b[0;34m.\u001b[0m\u001b[0mshape\u001b[0m\u001b[0;34m\u001b[0m\u001b[0m\n\u001b[0m",
      "\u001b[0;31mAttributeError\u001b[0m: 'list' object has no attribute 'shape'"
     ]
    }
   ],
   "source": [
    "chrmlentot = np.array([249250621,243199373,198022430,191154276,180915260,171115067,159138663,146364022,141213431,135534747,135006516,133851895,115169878,107349540,102531392,90354753,81195210,78077248,59128983,63025520,48129895,51304566])\n",
    "res = 200\n",
    "chrmlentotbin = np.cumsum(np.floor(chrmlentot/res))\n",
    "chrmlentotbin = np.insert(chrmlentotbin, 0, 0)\n",
    "S = int(np.sum(np.floor(chrmlentot/res)))\n",
    "\n",
    "pos1 = []\n",
    "pos2 = []\n",
    "vect = []\n",
    "\n",
    "chrm = 1\n",
    "filename = '/run/media/jmorlot/storage/Données_Lieberman/GM12878_combined/1kb_resolution_intrachromosomal/chr1/MAPQGE30/chr{0}_1kb.RAWobserved'.format(chrm)\n",
    "fbed = open(filename,'r')\n",
    "\n",
    "for line in fbed:\n",
    "    values = (line.split('\\n')[0]).split('\\t')\n",
    "    pos1.append(int(np.floor(int(values[0])/res)))\n",
    "    pos2.append(int(np.floor(int(values[1])/res)))\n",
    "    vect.append(int(values[2].split('.')[0]))\n",
    "\n",
    "print pos1.shape,pos2.shape,vect.shape"
   ]
  },
  {
   "cell_type": "code",
   "execution_count": 14,
   "metadata": {
    "collapsed": false
   },
   "outputs": [],
   "source": [
    "for line in fbed:\n",
    "    #1st part\n",
    "    values = (line.split('\\n')[0]).split('\\t')\n",
    "    if values[0].isdigit() and values[3].isdigit():\n",
    "        chrm = int(values[0])\n",
    "        pos1 = int(chrmlentotbin[chrm-1]+ np.floor(int(values[1])/res))\n",
    "        pos2 = int(chrmlentotbin[chrm-1]+ np.floor(int(values[2])/res))\n",
    "        vect[range(pos1,pos2)] = vect[range(pos1,pos2)] + 1\n",
    "        #2nd part\n",
    "        chrm = int(values[3])\n",
    "        pos1 = int(chrmlentotbin[chrm-1]+ np.floor(int(values[4])/res))\n",
    "        pos2 = int(chrmlentotbin[chrm-1]+ np.floor(int(values[5])/res))\n",
    "        vect[range(pos1,pos2)] = vect[range(pos1,pos2)] + 1"
   ]
  },
  {
   "cell_type": "code",
   "execution_count": 14,
   "metadata": {
    "collapsed": false
   },
   "outputs": [],
   "source": [
    "for line in fbed:\n",
    "    if re.search(r'chr(\\d+)', line):\n",
    "        values = (line.split('\\n')[0]).split('\\t')\n",
    "        chrm = int((values[0]).split('chr')[1])\n",
    "        pos1 = int(chrmlentotbin[chrm-1]+ np.floor(int(values[1])/res))\n",
    "        pos2 = int(chrmlentotbin[chrm-1]+ np.floor(int(values[2])/res))\n",
    "        if re.search(r'A.', values[3]):\n",
    "            vect[range(pos1,pos2)] = vect[range(pos1,pos2)] + 1\n",
    "        if re.search(r'A.', values[3]):\n",
    "            vect[range(pos1,pos2)] = vect[range(pos1,pos2)] + 1"
   ]
  },
  {
   "cell_type": "code",
   "execution_count": 75,
   "metadata": {
    "collapsed": false
   },
   "outputs": [
    {
     "ename": "TypeError",
     "evalue": "Object dtype dtype('O') has no native HDF5 equivalent",
     "output_type": "error",
     "traceback": [
      "\u001b[0;31m---------------------------------------------------------------------------\u001b[0m",
      "\u001b[0;31mTypeError\u001b[0m                                 Traceback (most recent call last)",
      "\u001b[0;32m<ipython-input-75-73f80a3106d8>\u001b[0m in \u001b[0;36m<module>\u001b[0;34m()\u001b[0m\n\u001b[1;32m      2\u001b[0m \u001b[0;34m\u001b[0m\u001b[0m\n\u001b[1;32m      3\u001b[0m \u001b[0mfh5\u001b[0m \u001b[0;34m=\u001b[0m \u001b[0mh5py\u001b[0m\u001b[0;34m.\u001b[0m\u001b[0mFile\u001b[0m\u001b[0;34m(\u001b[0m\u001b[0mfilename\u001b[0m\u001b[0;34m.\u001b[0m\u001b[0msplit\u001b[0m\u001b[0;34m(\u001b[0m\u001b[0;34m'.txt'\u001b[0m\u001b[0;34m)\u001b[0m\u001b[0;34m[\u001b[0m\u001b[0;36m0\u001b[0m\u001b[0;34m]\u001b[0m \u001b[0;34m+\u001b[0m \u001b[0;34m'.hdf5'\u001b[0m\u001b[0;34m,\u001b[0m \u001b[0;34m\"w\"\u001b[0m\u001b[0;34m)\u001b[0m\u001b[0;34m\u001b[0m\u001b[0m\n\u001b[0;32m----> 4\u001b[0;31m \u001b[0mfh5\u001b[0m\u001b[0;34m[\u001b[0m\u001b[0;34m'data'\u001b[0m\u001b[0;34m]\u001b[0m \u001b[0;34m=\u001b[0m \u001b[0mmatrix\u001b[0m\u001b[0;34m\u001b[0m\u001b[0m\n\u001b[0m\u001b[1;32m      5\u001b[0m \u001b[0mfh5\u001b[0m\u001b[0;34m.\u001b[0m\u001b[0mclose\u001b[0m\u001b[0;34m(\u001b[0m\u001b[0;34m)\u001b[0m\u001b[0;34m\u001b[0m\u001b[0m\n",
      "\u001b[0;32mh5py/_objects.pyx\u001b[0m in \u001b[0;36mh5py._objects.with_phil.wrapper (/tmp/pip-4rPeHA-build/h5py/_objects.c:2684)\u001b[0;34m()\u001b[0m\n",
      "\u001b[0;32mh5py/_objects.pyx\u001b[0m in \u001b[0;36mh5py._objects.with_phil.wrapper (/tmp/pip-4rPeHA-build/h5py/_objects.c:2642)\u001b[0;34m()\u001b[0m\n",
      "\u001b[0;32m/users/invites/jmorlot/ENV/lib/python2.7/site-packages/h5py/_hl/group.pyc\u001b[0m in \u001b[0;36m__setitem__\u001b[0;34m(self, name, obj)\u001b[0m\n\u001b[1;32m    290\u001b[0m \u001b[0;34m\u001b[0m\u001b[0m\n\u001b[1;32m    291\u001b[0m         \u001b[0;32melse\u001b[0m\u001b[0;34m:\u001b[0m\u001b[0;34m\u001b[0m\u001b[0m\n\u001b[0;32m--> 292\u001b[0;31m             \u001b[0mds\u001b[0m \u001b[0;34m=\u001b[0m \u001b[0mself\u001b[0m\u001b[0;34m.\u001b[0m\u001b[0mcreate_dataset\u001b[0m\u001b[0;34m(\u001b[0m\u001b[0mNone\u001b[0m\u001b[0;34m,\u001b[0m \u001b[0mdata\u001b[0m\u001b[0;34m=\u001b[0m\u001b[0mobj\u001b[0m\u001b[0;34m,\u001b[0m \u001b[0mdtype\u001b[0m\u001b[0;34m=\u001b[0m\u001b[0mbase\u001b[0m\u001b[0;34m.\u001b[0m\u001b[0mguess_dtype\u001b[0m\u001b[0;34m(\u001b[0m\u001b[0mobj\u001b[0m\u001b[0;34m)\u001b[0m\u001b[0;34m)\u001b[0m\u001b[0;34m\u001b[0m\u001b[0m\n\u001b[0m\u001b[1;32m    293\u001b[0m             \u001b[0mh5o\u001b[0m\u001b[0;34m.\u001b[0m\u001b[0mlink\u001b[0m\u001b[0;34m(\u001b[0m\u001b[0mds\u001b[0m\u001b[0;34m.\u001b[0m\u001b[0mid\u001b[0m\u001b[0;34m,\u001b[0m \u001b[0mself\u001b[0m\u001b[0;34m.\u001b[0m\u001b[0mid\u001b[0m\u001b[0;34m,\u001b[0m \u001b[0mname\u001b[0m\u001b[0;34m,\u001b[0m \u001b[0mlcpl\u001b[0m\u001b[0;34m=\u001b[0m\u001b[0mlcpl\u001b[0m\u001b[0;34m)\u001b[0m\u001b[0;34m\u001b[0m\u001b[0m\n\u001b[1;32m    294\u001b[0m \u001b[0;34m\u001b[0m\u001b[0m\n",
      "\u001b[0;32m/users/invites/jmorlot/ENV/lib/python2.7/site-packages/h5py/_hl/group.pyc\u001b[0m in \u001b[0;36mcreate_dataset\u001b[0;34m(self, name, shape, dtype, data, **kwds)\u001b[0m\n\u001b[1;32m    103\u001b[0m         \"\"\"\n\u001b[1;32m    104\u001b[0m         \u001b[0;32mwith\u001b[0m \u001b[0mphil\u001b[0m\u001b[0;34m:\u001b[0m\u001b[0;34m\u001b[0m\u001b[0m\n\u001b[0;32m--> 105\u001b[0;31m             \u001b[0mdsid\u001b[0m \u001b[0;34m=\u001b[0m \u001b[0mdataset\u001b[0m\u001b[0;34m.\u001b[0m\u001b[0mmake_new_dset\u001b[0m\u001b[0;34m(\u001b[0m\u001b[0mself\u001b[0m\u001b[0;34m,\u001b[0m \u001b[0mshape\u001b[0m\u001b[0;34m,\u001b[0m \u001b[0mdtype\u001b[0m\u001b[0;34m,\u001b[0m \u001b[0mdata\u001b[0m\u001b[0;34m,\u001b[0m \u001b[0;34m**\u001b[0m\u001b[0mkwds\u001b[0m\u001b[0;34m)\u001b[0m\u001b[0;34m\u001b[0m\u001b[0m\n\u001b[0m\u001b[1;32m    106\u001b[0m             \u001b[0mdset\u001b[0m \u001b[0;34m=\u001b[0m \u001b[0mdataset\u001b[0m\u001b[0;34m.\u001b[0m\u001b[0mDataset\u001b[0m\u001b[0;34m(\u001b[0m\u001b[0mdsid\u001b[0m\u001b[0;34m)\u001b[0m\u001b[0;34m\u001b[0m\u001b[0m\n\u001b[1;32m    107\u001b[0m             \u001b[0;32mif\u001b[0m \u001b[0mname\u001b[0m \u001b[0;32mis\u001b[0m \u001b[0;32mnot\u001b[0m \u001b[0mNone\u001b[0m\u001b[0;34m:\u001b[0m\u001b[0;34m\u001b[0m\u001b[0m\n",
      "\u001b[0;32m/users/invites/jmorlot/ENV/lib/python2.7/site-packages/h5py/_hl/dataset.pyc\u001b[0m in \u001b[0;36mmake_new_dset\u001b[0;34m(parent, shape, dtype, data, chunks, compression, shuffle, fletcher32, maxshape, compression_opts, fillvalue, scaleoffset, track_times)\u001b[0m\n\u001b[1;32m     91\u001b[0m         \u001b[0;32melse\u001b[0m\u001b[0;34m:\u001b[0m\u001b[0;34m\u001b[0m\u001b[0m\n\u001b[1;32m     92\u001b[0m             \u001b[0mdtype\u001b[0m \u001b[0;34m=\u001b[0m \u001b[0mnumpy\u001b[0m\u001b[0;34m.\u001b[0m\u001b[0mdtype\u001b[0m\u001b[0;34m(\u001b[0m\u001b[0mdtype\u001b[0m\u001b[0;34m)\u001b[0m\u001b[0;34m\u001b[0m\u001b[0m\n\u001b[0;32m---> 93\u001b[0;31m         \u001b[0mtid\u001b[0m \u001b[0;34m=\u001b[0m \u001b[0mh5t\u001b[0m\u001b[0;34m.\u001b[0m\u001b[0mpy_create\u001b[0m\u001b[0;34m(\u001b[0m\u001b[0mdtype\u001b[0m\u001b[0;34m,\u001b[0m \u001b[0mlogical\u001b[0m\u001b[0;34m=\u001b[0m\u001b[0;36m1\u001b[0m\u001b[0;34m)\u001b[0m\u001b[0;34m\u001b[0m\u001b[0m\n\u001b[0m\u001b[1;32m     94\u001b[0m \u001b[0;34m\u001b[0m\u001b[0m\n\u001b[1;32m     95\u001b[0m     \u001b[0;31m# Legacy\u001b[0m\u001b[0;34m\u001b[0m\u001b[0;34m\u001b[0m\u001b[0m\n",
      "\u001b[0;32mh5py/h5t.pyx\u001b[0m in \u001b[0;36mh5py.h5t.py_create (/tmp/pip-4rPeHA-build/h5py/h5t.c:16078)\u001b[0;34m()\u001b[0m\n",
      "\u001b[0;32mh5py/h5t.pyx\u001b[0m in \u001b[0;36mh5py.h5t.py_create (/tmp/pip-4rPeHA-build/h5py/h5t.c:15912)\u001b[0;34m()\u001b[0m\n",
      "\u001b[0;32mh5py/h5t.pyx\u001b[0m in \u001b[0;36mh5py.h5t.py_create (/tmp/pip-4rPeHA-build/h5py/h5t.c:15813)\u001b[0;34m()\u001b[0m\n",
      "\u001b[0;31mTypeError\u001b[0m: Object dtype dtype('O') has no native HDF5 equivalent"
     ]
    }
   ],
   "source": [
    "# fbed.close()\n",
    "\n",
    "fh5 = h5py.File(filename.split('.txt')[0] + '.hdf5', \"w\")\n",
    "fh5['data'] = vect\n",
    "fh5.close()"
   ]
  },
  {
   "cell_type": "code",
   "execution_count": null,
   "metadata": {
    "collapsed": true
   },
   "outputs": [],
   "source": [
    "fbed.close()\n",
    "V = np.hstack((pos1,pos2,vect))\n",
    "fh5 = h5py.File(filename.split('.narrowPeak')[0] + '.hdf5', \"w\")\n",
    "fh5['data'] = vect\n",
    "fh5.close()"
   ]
  },
  {
   "cell_type": "code",
   "execution_count": 22,
   "metadata": {
    "collapsed": false
   },
   "outputs": [
    {
     "name": "stdout",
     "output_type": "stream",
     "text": [
      "<_sre.SRE_Match object at 0x7efdd8023578>\n"
     ]
    }
   ],
   "source": [
    "print re.search(r'A.', 'A3')"
   ]
  },
  {
   "cell_type": "code",
   "execution_count": 6,
   "metadata": {
    "collapsed": false
   },
   "outputs": [
    {
     "data": {
      "text/plain": [
       "['/users/invites/jmorlot/T\\xc3\\xa9l\\xc3\\xa9chargements/GSM935611_hg19_wgEncodeSydhTfbsGm12878Ctcfsc15914c20StdPk']"
      ]
     },
     "execution_count": 6,
     "metadata": {},
     "output_type": "execute_result"
    }
   ],
   "source": [
    "filename.split('.')[0:-1]"
   ]
  },
  {
   "cell_type": "code",
   "execution_count": null,
   "metadata": {
    "collapsed": true
   },
   "outputs": [],
   "source": []
  }
 ],
 "metadata": {
  "kernelspec": {
   "display_name": "Python 2",
   "language": "python",
   "name": "python2"
  },
  "language_info": {
   "codemirror_mode": {
    "name": "ipython",
    "version": 2
   },
   "file_extension": ".py",
   "mimetype": "text/x-python",
   "name": "python",
   "nbconvert_exporter": "python",
   "pygments_lexer": "ipython2",
   "version": "2.7.13"
  }
 },
 "nbformat": 4,
 "nbformat_minor": 2
}
